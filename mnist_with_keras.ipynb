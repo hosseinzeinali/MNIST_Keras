{
 "cells": [
  {
   "cell_type": "markdown",
   "id": "745eca41",
   "metadata": {},
   "source": [
    "import package"
   ]
  },
  {
   "cell_type": "code",
   "execution_count": 5,
   "id": "40eb72e7",
   "metadata": {},
   "outputs": [],
   "source": [
    "import numpy as np\n",
    "import matplotlib.pyplot as plt\n",
    "\n",
    "from keras.models import Sequential\n",
    "from keras.layers import Dense\n",
    "from keras.utils import to_categorical\n",
    "from keras.datasets import mnist"
   ]
  },
  {
   "cell_type": "markdown",
   "id": "3242595f",
   "metadata": {},
   "source": [
    "read the data"
   ]
  },
  {
   "cell_type": "code",
   "execution_count": 6,
   "id": "d0ef519a",
   "metadata": {},
   "outputs": [],
   "source": [
    "(X_train,y_train),(X_test,y_test)=mnist.load_data()"
   ]
  },
  {
   "cell_type": "code",
   "execution_count": 7,
   "id": "00cb0149",
   "metadata": {},
   "outputs": [
    {
     "name": "stdout",
     "output_type": "stream",
     "text": [
      "X_train shape : (60000, 28, 28) \n"
     ]
    }
   ],
   "source": [
    "print(f\"X_train shape : {X_train.shape} \")"
   ]
  },
  {
   "cell_type": "code",
   "execution_count": 8,
   "id": "42061b29",
   "metadata": {},
   "outputs": [
    {
     "name": "stdout",
     "output_type": "stream",
     "text": [
      "X_test shape : (10000, 28, 28) \n"
     ]
    }
   ],
   "source": [
    "print(f\"X_test shape : {X_test.shape} \")"
   ]
  },
  {
   "cell_type": "code",
   "execution_count": 9,
   "id": "289ede90",
   "metadata": {},
   "outputs": [
    {
     "name": "stdout",
     "output_type": "stream",
     "text": [
      "y_train shape : (60000,) \n"
     ]
    }
   ],
   "source": [
    "print(f\"y_train shape : {y_train.shape} \")"
   ]
  },
  {
   "cell_type": "code",
   "execution_count": 10,
   "id": "db5eff96",
   "metadata": {},
   "outputs": [
    {
     "name": "stdout",
     "output_type": "stream",
     "text": [
      "y_test shape : (10000,) \n"
     ]
    }
   ],
   "source": [
    "print(f\"y_test shape : {y_test.shape} \")"
   ]
  },
  {
   "cell_type": "code",
   "execution_count": 15,
   "id": "ab890c68",
   "metadata": {},
   "outputs": [
    {
     "name": "stdout",
     "output_type": "stream",
     "text": [
      "8\n",
      "_-_-_-_-_-_-_-_-_-_-_-_-_-_-_-_-_-_-_-_-\n"
     ]
    },
    {
     "data": {
      "text/plain": [
       "<matplotlib.image.AxesImage at 0x21235eb3490>"
      ]
     },
     "execution_count": 15,
     "metadata": {},
     "output_type": "execute_result"
    },
    {
     "data": {
      "image/png": "[encoded data removed]",
      "text/plain": [
       "<Figure size 640x480 with 1 Axes>"
      ]
     },
     "metadata": {},
     "output_type": "display_data"
    }
   ],
   "source": [
    "print(y_train[55])\n",
    "print(\"_-_-\"*10)\n",
    "\n",
    "plt.imshow(X_train[55])"
   ]
  },
  {
   "cell_type": "code",
   "execution_count": 16,
   "id": "2df4fc17",
   "metadata": {},
   "outputs": [
    {
     "data": {
      "text/plain": [
       "3"
      ]
     },
     "execution_count": 16,
     "metadata": {},
     "output_type": "execute_result"
    }
   ],
   "source": [
    "X_train.ndim"
   ]
  },
  {
   "cell_type": "markdown",
   "id": "5b79e596",
   "metadata": {},
   "source": [
    "flatten images into one-dimensional vector"
   ]
  },
  {
   "cell_type": "code",
   "execution_count": 17,
   "id": "11a940c3",
   "metadata": {},
   "outputs": [],
   "source": [
    "n_pixels=X_train.shape[1]*X_train.shape[2]"
   ]
  },
  {
   "cell_type": "code",
   "execution_count": 18,
   "id": "b78194e2",
   "metadata": {},
   "outputs": [
    {
     "data": {
      "text/plain": [
       "784"
      ]
     },
     "execution_count": 18,
     "metadata": {},
     "output_type": "execute_result"
    }
   ],
   "source": [
    "n_pixels #28*28"
   ]
  },
  {
   "cell_type": "code",
   "execution_count": 19,
   "id": "395d01a0",
   "metadata": {},
   "outputs": [],
   "source": [
    "X_train=X_train.reshape(X_train.shape[0],n_pixels).astype(\"float32\")\n",
    "X_test=X_test.reshape(X_test.shape[0],n_pixels).astype(\"float32\")"
   ]
  },
  {
   "cell_type": "markdown",
   "id": "4ad7920b",
   "metadata": {},
   "source": [
    "normalize input"
   ]
  },
  {
   "cell_type": "code",
   "execution_count": 23,
   "id": "d7a1923a",
   "metadata": {},
   "outputs": [
    {
     "name": "stdout",
     "output_type": "stream",
     "text": [
      "255.0\n",
      "0.0\n"
     ]
    }
   ],
   "source": [
    "print(X_test.max())\n",
    "print(X_test.min())"
   ]
  },
  {
   "cell_type": "code",
   "execution_count": 24,
   "id": "4940a618",
   "metadata": {},
   "outputs": [],
   "source": [
    "X_train=X_train/255\n",
    "X_test=X_test/255"
   ]
  },
  {
   "cell_type": "markdown",
   "id": "69fc0791",
   "metadata": {},
   "source": [
    "Convert the target variable to categories"
   ]
  },
  {
   "cell_type": "code",
   "execution_count": 25,
   "id": "90cebedb",
   "metadata": {},
   "outputs": [],
   "source": [
    "y_train=to_categorical(y_train)\n",
    "y_test=to_categorical(y_test)"
   ]
  },
  {
   "cell_type": "code",
   "execution_count": 26,
   "id": "0ac7c5b6",
   "metadata": {},
   "outputs": [
    {
     "name": "stdout",
     "output_type": "stream",
     "text": [
      "y_train shape : (60000, 10) \n"
     ]
    }
   ],
   "source": [
    "print(f\"y_train shape : {y_train.shape} \")"
   ]
  },
  {
   "cell_type": "code",
   "execution_count": 27,
   "id": "b4db8b36",
   "metadata": {},
   "outputs": [
    {
     "name": "stdout",
     "output_type": "stream",
     "text": [
      "y_test shape : (10000, 10) \n"
     ]
    }
   ],
   "source": [
    "print(f\"y_test shape : {y_test.shape} \")"
   ]
  },
  {
   "cell_type": "code",
   "execution_count": 28,
   "id": "7bb756e8",
   "metadata": {},
   "outputs": [
    {
     "name": "stdout",
     "output_type": "stream",
     "text": [
      "10\n"
     ]
    }
   ],
   "source": [
    "n_cls=y_test.shape[1] #10\n",
    "print(n_cls)"
   ]
  },
  {
   "cell_type": "markdown",
   "id": "80d491e3",
   "metadata": {},
   "source": [
    "Build a Neural Network"
   ]
  },
  {
   "cell_type": "code",
   "execution_count": 29,
   "id": "8b3e2e42",
   "metadata": {},
   "outputs": [],
   "source": [
    "def mnis_cls():\n",
    "    model=Sequential()\n",
    "    model.add(Dense(n_pixels,activation=\"relu\",input_shape=(n_pixels,)))\n",
    "    model.add(Dense(100,activation=\"relu\"))\n",
    "    model.add(Dense(n_cls,activation=\"softmax\"))\n",
    "    \n",
    "    model.compile(optimizer=\"adam\",loss=\"categorical_crossentropy\",metrics=[\"accuracy\"])\n",
    "    return model"
   ]
  },
  {
   "cell_type": "markdown",
   "id": "fb5dc500",
   "metadata": {},
   "source": [
    "Train and Test"
   ]
  },
  {
   "cell_type": "code",
   "execution_count": 30,
   "id": "953ce29b",
   "metadata": {},
   "outputs": [
    {
     "name": "stdout",
     "output_type": "stream",
     "text": [
      "Epoch 1/15\n",
      "1875/1875 - 22s - loss: 0.1859 - accuracy: 0.9438 - val_loss: 0.1015 - val_accuracy: 0.9676 - 22s/epoch - 11ms/step\n",
      "Epoch 2/15\n",
      "1875/1875 - 19s - loss: 0.0763 - accuracy: 0.9757 - val_loss: 0.0818 - val_accuracy: 0.9761 - 19s/epoch - 10ms/step\n",
      "Epoch 3/15\n",
      "1875/1875 - 19s - loss: 0.0531 - accuracy: 0.9829 - val_loss: 0.0744 - val_accuracy: 0.9786 - 19s/epoch - 10ms/step\n",
      "Epoch 4/15\n",
      "1875/1875 - 17s - loss: 0.0399 - accuracy: 0.9876 - val_loss: 0.0676 - val_accuracy: 0.9801 - 17s/epoch - 9ms/step\n",
      "Epoch 5/15\n",
      "1875/1875 - 18s - loss: 0.0312 - accuracy: 0.9896 - val_loss: 0.0708 - val_accuracy: 0.9807 - 18s/epoch - 9ms/step\n",
      "Epoch 6/15\n",
      "1875/1875 - 18s - loss: 0.0249 - accuracy: 0.9920 - val_loss: 0.0651 - val_accuracy: 0.9830 - 18s/epoch - 9ms/step\n",
      "Epoch 7/15\n",
      "1875/1875 - 19s - loss: 0.0228 - accuracy: 0.9930 - val_loss: 0.0765 - val_accuracy: 0.9812 - 19s/epoch - 10ms/step\n",
      "Epoch 8/15\n",
      "1875/1875 - 19s - loss: 0.0199 - accuracy: 0.9937 - val_loss: 0.0712 - val_accuracy: 0.9828 - 19s/epoch - 10ms/step\n",
      "Epoch 9/15\n",
      "1875/1875 - 24s - loss: 0.0192 - accuracy: 0.9938 - val_loss: 0.0770 - val_accuracy: 0.9822 - 24s/epoch - 13ms/step\n",
      "Epoch 10/15\n",
      "1875/1875 - 20s - loss: 0.0159 - accuracy: 0.9952 - val_loss: 0.0901 - val_accuracy: 0.9808 - 20s/epoch - 11ms/step\n",
      "Epoch 11/15\n",
      "1875/1875 - 21s - loss: 0.0148 - accuracy: 0.9954 - val_loss: 0.0984 - val_accuracy: 0.9803 - 21s/epoch - 11ms/step\n",
      "Epoch 12/15\n",
      "1875/1875 - 22s - loss: 0.0133 - accuracy: 0.9958 - val_loss: 0.1055 - val_accuracy: 0.9805 - 22s/epoch - 12ms/step\n",
      "Epoch 13/15\n",
      "1875/1875 - 19s - loss: 0.0137 - accuracy: 0.9958 - val_loss: 0.0994 - val_accuracy: 0.9792 - 19s/epoch - 10ms/step\n",
      "Epoch 14/15\n",
      "1875/1875 - 19s - loss: 0.0106 - accuracy: 0.9966 - val_loss: 0.1149 - val_accuracy: 0.9792 - 19s/epoch - 10ms/step\n",
      "Epoch 15/15\n",
      "1875/1875 - 19s - loss: 0.0118 - accuracy: 0.9965 - val_loss: 0.1095 - val_accuracy: 0.9811 - 19s/epoch - 10ms/step\n"
     ]
    },
    {
     "data": {
      "text/plain": [
       "<keras.src.callbacks.History at 0x2124987c5d0>"
      ]
     },
     "execution_count": 30,
     "metadata": {},
     "output_type": "execute_result"
    }
   ],
   "source": [
    "model=mnis_cls()\n",
    "\n",
    "model.fit(X_train,y_train,validation_data=(X_test,y_test),epochs=15,verbose=2)"
   ]
  },
  {
   "cell_type": "markdown",
   "id": "3590bc26",
   "metadata": {},
   "source": [
    "evaluate the model"
   ]
  },
  {
   "cell_type": "code",
   "execution_count": 31,
   "id": "88085ad5",
   "metadata": {},
   "outputs": [
    {
     "name": "stdout",
     "output_type": "stream",
     "text": [
      "313/313 [==============================] - 1s 3ms/step - loss: 0.1095 - accuracy: 0.9811\n"
     ]
    },
    {
     "data": {
      "text/plain": [
       "[0.10951408743858337, 0.9811000227928162]"
      ]
     },
     "execution_count": 31,
     "metadata": {},
     "output_type": "execute_result"
    }
   ],
   "source": [
    "model.evaluate(X_test,y_test)"
   ]
  },
  {
   "cell_type": "markdown",
   "id": "949cbf91",
   "metadata": {},
   "source": [
    "Save the model"
   ]
  },
  {
   "cell_type": "code",
   "execution_count": 33,
   "id": "85ccc248",
   "metadata": {},
   "outputs": [
    {
     "name": "stderr",
     "output_type": "stream",
     "text": [
      "C:\\Users\\Bandar Tarasheh\\anaconda3\\Lib\\site-packages\\keras\\src\\engine\\training.py:3079: UserWarning: You are saving your model as an HDF5 file via `model.save()`. This file format is considered legacy. We recommend using instead the native Keras format, e.g. `model.save('my_model.keras')`.\n",
      "  saving_api.save_model(\n"
     ]
    }
   ],
   "source": [
    "model.save(\"mnist_model.h5\")"
   ]
  },
  {
   "cell_type": "markdown",
   "id": "6e74f77f",
   "metadata": {},
   "source": [
    "Load the model"
   ]
  },
  {
   "cell_type": "code",
   "execution_count": 34,
   "id": "2da2605b",
   "metadata": {},
   "outputs": [],
   "source": [
    "from keras.models import load_model"
   ]
  },
  {
   "cell_type": "code",
   "execution_count": 35,
   "id": "12c7dee8",
   "metadata": {},
   "outputs": [],
   "source": [
    "Mnist_Model=load_model(\"mnist_model.h5\")"
   ]
  },
  {
   "cell_type": "markdown",
   "id": "ccd9d8da",
   "metadata": {},
   "source": [
    "predict"
   ]
  },
  {
   "cell_type": "code",
   "execution_count": 38,
   "id": "e11df232",
   "metadata": {},
   "outputs": [
    {
     "name": "stdout",
     "output_type": "stream",
     "text": [
      "1/1 [==============================] - 0s 30ms/step\n"
     ]
    },
    {
     "data": {
      "text/plain": [
       "array([[4.9810658e-15, 1.7877930e-11, 6.7681182e-12, 9.9999583e-01,\n",
       "        7.8776775e-15, 2.6024025e-09, 1.0030903e-23, 3.2499253e-12,\n",
       "        2.3743891e-11, 4.1982826e-06]], dtype=float32)"
      ]
     },
     "execution_count": 38,
     "metadata": {},
     "output_type": "execute_result"
    }
   ],
   "source": [
    "Mnist_Model.predict(X_test[[369]])"
   ]
  },
  {
   "cell_type": "code",
   "execution_count": 39,
   "id": "31ecd98e",
   "metadata": {},
   "outputs": [
    {
     "name": "stdout",
     "output_type": "stream",
     "text": [
      "1/1 [==============================] - 0s 29ms/step\n"
     ]
    },
    {
     "data": {
      "text/plain": [
       "3"
      ]
     },
     "execution_count": 39,
     "metadata": {},
     "output_type": "execute_result"
    }
   ],
   "source": [
    "Mnist_Model.predict(X_test[[369]]).argmax()"
   ]
  },
  {
   "cell_type": "code",
   "execution_count": 46,
   "id": "6ca5817f",
   "metadata": {},
   "outputs": [
    {
     "name": "stdout",
     "output_type": "stream",
     "text": [
      "[0. 0. 0. 1. 0. 0. 0. 0. 0. 0.]\n"
     ]
    }
   ],
   "source": [
    "print(y_test[369])"
   ]
  }
 ],
 "metadata": {
  "kernelspec": {
   "display_name": "Python 3 (ipykernel)",
   "language": "python",
   "name": "python3"
  },
  "language_info": {
   "codemirror_mode": {
    "name": "ipython",
    "version": 3
   },
   "file_extension": ".py",
   "mimetype": "text/x-python",
   "name": "python",
   "nbconvert_exporter": "python",
   "pygments_lexer": "ipython3",
   "version": "3.11.5"
  }
 },
 "nbformat": 4,
 "nbformat_minor": 5
}
